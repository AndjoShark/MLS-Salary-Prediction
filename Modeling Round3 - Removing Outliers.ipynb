{
 "cells": [
  {
   "cell_type": "code",
   "execution_count": 1,
   "metadata": {
    "collapsed": true
   },
   "outputs": [],
   "source": [
    "import pandas as pd\n",
    "import numpy as np\n",
    "from matplotlib import pyplot as plt\n",
    "import seaborn as sns\n",
    "from sklearn.linear_model import Ridge\n",
    "from sklearn.linear_model import Lasso\n",
    "from sklearn.linear_model import LinearRegression\n",
    "from sklearn.neighbors import KNeighborsRegressor\n",
    "from sklearn.ensemble import RandomForestRegressor\n",
    "from sklearn.ensemble import GradientBoostingRegressor\n",
    "from sklearn.model_selection import cross_val_score\n",
    "from sklearn.model_selection import GridSearchCV\n",
    "from sklearn.model_selection import train_test_split\n",
    "from sklearn.model_selection import KFold\n",
    "from sklearn.model_selection import cross_val_predict\n",
    "from sklearn.metrics import make_scorer\n",
    "from sklearn.metrics import mean_squared_error\n",
    "from sklearn.metrics import r2_score\n",
    "from sklearn.svm import SVR\n",
    "from sklearn.linear_model import TheilSenRegressor, RANSACRegressor, HuberRegressor\n",
    "\n",
    "df = pd.read_csv('modelingdf.csv')\n",
    "df = df.drop('Unnamed: 0', axis =1)"
   ]
  },
  {
   "cell_type": "code",
   "execution_count": 2,
   "metadata": {},
   "outputs": [
    {
     "data": {
      "text/html": [
       "<div>\n",
       "<style>\n",
       "    .dataframe thead tr:only-child th {\n",
       "        text-align: right;\n",
       "    }\n",
       "\n",
       "    .dataframe thead th {\n",
       "        text-align: left;\n",
       "    }\n",
       "\n",
       "    .dataframe tbody tr th {\n",
       "        vertical-align: top;\n",
       "    }\n",
       "</style>\n",
       "<table border=\"1\" class=\"dataframe\">\n",
       "  <thead>\n",
       "    <tr style=\"text-align: right;\">\n",
       "      <th></th>\n",
       "      <th>A</th>\n",
       "      <th>FC</th>\n",
       "      <th>G</th>\n",
       "      <th>GP</th>\n",
       "      <th>GS</th>\n",
       "      <th>MINS</th>\n",
       "      <th>OFF</th>\n",
       "      <th>R</th>\n",
       "      <th>SHTS</th>\n",
       "      <th>SOG</th>\n",
       "      <th>Y</th>\n",
       "      <th>season</th>\n",
       "      <th>club</th>\n",
       "      <th>position</th>\n",
       "      <th>next_year_compensation</th>\n",
       "      <th>name</th>\n",
       "      <th>current_compensation</th>\n",
       "    </tr>\n",
       "  </thead>\n",
       "  <tbody>\n",
       "    <tr>\n",
       "      <th>0</th>\n",
       "      <td>0.0</td>\n",
       "      <td>7.0</td>\n",
       "      <td>0.0</td>\n",
       "      <td>8.0</td>\n",
       "      <td>5.0</td>\n",
       "      <td>460.0</td>\n",
       "      <td>3.0</td>\n",
       "      <td>0.0</td>\n",
       "      <td>8.0</td>\n",
       "      <td>3.0</td>\n",
       "      <td>0.0</td>\n",
       "      <td>2007</td>\n",
       "      <td>CLB</td>\n",
       "      <td>M</td>\n",
       "      <td>12900</td>\n",
       "      <td>brian plotkin</td>\n",
       "      <td>30000</td>\n",
       "    </tr>\n",
       "    <tr>\n",
       "      <th>1</th>\n",
       "      <td>4.0</td>\n",
       "      <td>28.0</td>\n",
       "      <td>3.0</td>\n",
       "      <td>30.0</td>\n",
       "      <td>11.0</td>\n",
       "      <td>1241.0</td>\n",
       "      <td>4.0</td>\n",
       "      <td>0.0</td>\n",
       "      <td>38.0</td>\n",
       "      <td>16.0</td>\n",
       "      <td>5.0</td>\n",
       "      <td>2007</td>\n",
       "      <td>CHI</td>\n",
       "      <td>F</td>\n",
       "      <td>63100</td>\n",
       "      <td>calen carr</td>\n",
       "      <td>50500</td>\n",
       "    </tr>\n",
       "    <tr>\n",
       "      <th>2</th>\n",
       "      <td>2.0</td>\n",
       "      <td>21.0</td>\n",
       "      <td>8.0</td>\n",
       "      <td>33.0</td>\n",
       "      <td>28.0</td>\n",
       "      <td>2181.0</td>\n",
       "      <td>37.0</td>\n",
       "      <td>0.0</td>\n",
       "      <td>65.0</td>\n",
       "      <td>41.0</td>\n",
       "      <td>3.0</td>\n",
       "      <td>2007</td>\n",
       "      <td>TFC</td>\n",
       "      <td>F</td>\n",
       "      <td>61273</td>\n",
       "      <td>chad barrett</td>\n",
       "      <td>48713</td>\n",
       "    </tr>\n",
       "    <tr>\n",
       "      <th>3</th>\n",
       "      <td>3.0</td>\n",
       "      <td>15.0</td>\n",
       "      <td>8.0</td>\n",
       "      <td>22.0</td>\n",
       "      <td>21.0</td>\n",
       "      <td>1721.0</td>\n",
       "      <td>5.0</td>\n",
       "      <td>0.0</td>\n",
       "      <td>44.0</td>\n",
       "      <td>22.0</td>\n",
       "      <td>1.0</td>\n",
       "      <td>2007</td>\n",
       "      <td>CHI</td>\n",
       "      <td>F</td>\n",
       "      <td>86075</td>\n",
       "      <td>chris rolfe</td>\n",
       "      <td>74700</td>\n",
       "    </tr>\n",
       "    <tr>\n",
       "      <th>4</th>\n",
       "      <td>0.0</td>\n",
       "      <td>43.0</td>\n",
       "      <td>1.0</td>\n",
       "      <td>26.0</td>\n",
       "      <td>24.0</td>\n",
       "      <td>2044.0</td>\n",
       "      <td>2.0</td>\n",
       "      <td>0.0</td>\n",
       "      <td>11.0</td>\n",
       "      <td>3.0</td>\n",
       "      <td>4.0</td>\n",
       "      <td>2007</td>\n",
       "      <td>CHI</td>\n",
       "      <td>D</td>\n",
       "      <td>44625</td>\n",
       "      <td>dasan robinson</td>\n",
       "      <td>42500</td>\n",
       "    </tr>\n",
       "  </tbody>\n",
       "</table>\n",
       "</div>"
      ],
      "text/plain": [
       "     A    FC    G    GP    GS    MINS   OFF    R  SHTS   SOG    Y  season  \\\n",
       "0  0.0   7.0  0.0   8.0   5.0   460.0   3.0  0.0   8.0   3.0  0.0    2007   \n",
       "1  4.0  28.0  3.0  30.0  11.0  1241.0   4.0  0.0  38.0  16.0  5.0    2007   \n",
       "2  2.0  21.0  8.0  33.0  28.0  2181.0  37.0  0.0  65.0  41.0  3.0    2007   \n",
       "3  3.0  15.0  8.0  22.0  21.0  1721.0   5.0  0.0  44.0  22.0  1.0    2007   \n",
       "4  0.0  43.0  1.0  26.0  24.0  2044.0   2.0  0.0  11.0   3.0  4.0    2007   \n",
       "\n",
       "  club position  next_year_compensation            name  current_compensation  \n",
       "0  CLB        M                   12900   brian plotkin                 30000  \n",
       "1  CHI        F                   63100      calen carr                 50500  \n",
       "2  TFC        F                   61273    chad barrett                 48713  \n",
       "3  CHI        F                   86075     chris rolfe                 74700  \n",
       "4  CHI        D                   44625  dasan robinson                 42500  "
      ]
     },
     "execution_count": 2,
     "metadata": {},
     "output_type": "execute_result"
    }
   ],
   "source": [
    "df.head()"
   ]
  },
  {
   "cell_type": "code",
   "execution_count": 3,
   "metadata": {
    "collapsed": true
   },
   "outputs": [],
   "source": [
    "df = df.drop('name', axis=1)"
   ]
  },
  {
   "cell_type": "code",
   "execution_count": 4,
   "metadata": {
    "collapsed": true
   },
   "outputs": [],
   "source": [
    "df = pd.get_dummies(df)"
   ]
  },
  {
   "cell_type": "code",
   "execution_count": 5,
   "metadata": {},
   "outputs": [
    {
     "data": {
      "text/plain": [
       "(2360, 53)"
      ]
     },
     "execution_count": 5,
     "metadata": {},
     "output_type": "execute_result"
    }
   ],
   "source": [
    "df.shape"
   ]
  },
  {
   "cell_type": "code",
   "execution_count": 6,
   "metadata": {},
   "outputs": [],
   "source": [
    "def quick_plots(column):\n",
    "    norm = np.random.normal(0, 1, len(df))\n",
    "    norm.sort()\n",
    "    earnings_sorted = column.sort_values()\n",
    "    plt.figure(figsize = (20,5))\n",
    "    plt.subplot(1,2,1)\n",
    "    plt.plot(norm, column.sort_values(), \"o\")\n",
    "    plt.title('QQ Plot')\n",
    "    \n",
    "    plt.subplot(1,2,2)\n",
    "    plt.scatter(x=column, y=df['next_year_compensation'])\n",
    "    plt.title('Scatter Plot')\n",
    "    plt.ylabel('Next Year Compensation')\n",
    "    plt.xlabel('Column Name')\n",
    "    plt.show()"
   ]
  },
  {
   "cell_type": "code",
   "execution_count": 7,
   "metadata": {},
   "outputs": [
    {
     "data": {
      "image/png": "[encoded data removed]",
      "text/plain": [
       "<matplotlib.figure.Figure at 0x1a15610a20>"
      ]
     },
     "metadata": {},
     "output_type": "display_data"
    }
   ],
   "source": [
    "quick_plots(df.current_compensation)"
   ]
  },
  {
   "cell_type": "code",
   "execution_count": 8,
   "metadata": {
    "collapsed": true
   },
   "outputs": [],
   "source": [
    "df = df[df['current_compensation'] <5000000]"
   ]
  },
  {
   "cell_type": "code",
   "execution_count": 9,
   "metadata": {
    "collapsed": true
   },
   "outputs": [],
   "source": [
    "df_train, df_test = train_test_split(df, test_size=0.2, random_state = 12)\n",
    "X_train = df_train.loc[:, ~(df_train.columns).isin(['next_year_compensation'])]\n",
    "Y_train = df_train['next_year_compensation']\n",
    "X_test = df_test.loc[:, ~(df_test.columns).isin(['next_year_compensation'])]\n",
    "Y_test = df_test['next_year_compensation']"
   ]
  },
  {
   "cell_type": "code",
   "execution_count": 10,
   "metadata": {
    "collapsed": true
   },
   "outputs": [],
   "source": [
    "linear = LinearRegression()\n",
    "ridge = Ridge()\n",
    "gbr = GradientBoostingRegressor()\n",
    "rfr = RandomForestRegressor()\n",
    "theilsan = TheilSenRegressor()\n",
    "ransac = RANSACRegressor()\n",
    "huber = HuberRegressor()"
   ]
  },
  {
   "cell_type": "code",
   "execution_count": 11,
   "metadata": {},
   "outputs": [
    {
     "data": {
      "text/plain": [
       "count    2.344000e+03\n",
       "mean     2.252376e+05\n",
       "std      4.205487e+05\n",
       "min      1.290000e+04\n",
       "25%      7.775000e+04\n",
       "50%      1.326030e+05\n",
       "75%      2.141248e+05\n",
       "max      5.500000e+06\n",
       "Name: next_year_compensation, dtype: float64"
      ]
     },
     "execution_count": 11,
     "metadata": {},
     "output_type": "execute_result"
    }
   ],
   "source": [
    "df.next_year_compensation.describe()"
   ]
  },
  {
   "cell_type": "code",
   "execution_count": 12,
   "metadata": {
    "collapsed": true
   },
   "outputs": [],
   "source": [
    "def get_metrics(model, dataframe):\n",
    "    x = dataframe.loc[:, ~(df_train.columns).isin(['next_year_compensation'])]\n",
    "    y = dataframe['next_year_compensation']\n",
    "    r2_scores = cross_val_score(model, x, y, cv=10)\n",
    "    r2 = r2_scores.mean()\n",
    "    mse_scores = cross_val_score(model,x,y, cv=10, scoring='neg_mean_squared_error')\n",
    "    mse = mse_scores.mean() * -1\n",
    "    rmse = np.sqrt(mse)\n",
    "    print(model)\n",
    "    print('R2 Score:', r2)\n",
    "    print('MSE:', mse)\n",
    "    print('RMSE:', rmse)"
   ]
  },
  {
   "cell_type": "code",
   "execution_count": 13,
   "metadata": {},
   "outputs": [
    {
     "name": "stdout",
     "output_type": "stream",
     "text": [
      "LinearRegression(copy_X=True, fit_intercept=True, n_jobs=1, normalize=False)\n",
      "R2 Score: 0.855988914385\n",
      "MSE: 20776552351.4\n",
      "RMSE: 144140.738001\n"
     ]
    }
   ],
   "source": [
    "get_metrics(linear, df_train)"
   ]
  },
  {
   "cell_type": "code",
   "execution_count": 14,
   "metadata": {},
   "outputs": [
    {
     "name": "stdout",
     "output_type": "stream",
     "text": [
      "Ridge(alpha=1.0, copy_X=True, fit_intercept=True, max_iter=None,\n",
      "   normalize=False, random_state=None, solver='auto', tol=0.001)\n",
      "R2 Score: 0.856110410715\n",
      "MSE: 20756235028.2\n",
      "RMSE: 144070.243382\n"
     ]
    }
   ],
   "source": [
    "get_metrics(ridge,df_train)"
   ]
  },
  {
   "cell_type": "code",
   "execution_count": 15,
   "metadata": {},
   "outputs": [
    {
     "name": "stdout",
     "output_type": "stream",
     "text": [
      "GradientBoostingRegressor(alpha=0.9, criterion='friedman_mse', init=None,\n",
      "             learning_rate=0.1, loss='ls', max_depth=3, max_features=None,\n",
      "             max_leaf_nodes=None, min_impurity_decrease=0.0,\n",
      "             min_impurity_split=None, min_samples_leaf=1,\n",
      "             min_samples_split=2, min_weight_fraction_leaf=0.0,\n",
      "             n_estimators=100, presort='auto', random_state=None,\n",
      "             subsample=1.0, verbose=0, warm_start=False)\n",
      "R2 Score: 0.817461659263\n",
      "MSE: 26446908491.2\n",
      "RMSE: 162625.054931\n"
     ]
    }
   ],
   "source": [
    "get_metrics(gbr, df_train)"
   ]
  },
  {
   "cell_type": "code",
   "execution_count": 16,
   "metadata": {},
   "outputs": [
    {
     "name": "stdout",
     "output_type": "stream",
     "text": [
      "RandomForestRegressor(bootstrap=True, criterion='mse', max_depth=None,\n",
      "           max_features='auto', max_leaf_nodes=None,\n",
      "           min_impurity_decrease=0.0, min_impurity_split=None,\n",
      "           min_samples_leaf=1, min_samples_split=2,\n",
      "           min_weight_fraction_leaf=0.0, n_estimators=10, n_jobs=1,\n",
      "           oob_score=False, random_state=None, verbose=0, warm_start=False)\n",
      "R2 Score: 0.851978431595\n",
      "MSE: 25960994226.0\n",
      "RMSE: 161124.157798\n"
     ]
    }
   ],
   "source": [
    "get_metrics(rfr, df_train)"
   ]
  },
  {
   "cell_type": "code",
   "execution_count": 17,
   "metadata": {},
   "outputs": [
    {
     "name": "stdout",
     "output_type": "stream",
     "text": [
      "TheilSenRegressor(copy_X=True, fit_intercept=True, max_iter=300,\n",
      "         max_subpopulation=10000, n_jobs=1, n_subsamples=None,\n",
      "         random_state=None, tol=0.001, verbose=False)\n",
      "R2 Score: 0.786091225206\n",
      "MSE: 30236099900.3\n",
      "RMSE: 173885.306741\n"
     ]
    }
   ],
   "source": [
    "get_metrics(theilsan, df_train)"
   ]
  },
  {
   "cell_type": "code",
   "execution_count": 18,
   "metadata": {},
   "outputs": [
    {
     "name": "stdout",
     "output_type": "stream",
     "text": [
      "RANSACRegressor(base_estimator=None, is_data_valid=None, is_model_valid=None,\n",
      "        loss='absolute_loss', max_skips=inf, max_trials=100,\n",
      "        min_samples=None, random_state=None, residual_metric=None,\n",
      "        residual_threshold=None, stop_n_inliers=inf, stop_probability=0.99,\n",
      "        stop_score=inf)\n",
      "R2 Score: 0.855165575733\n",
      "MSE: 21947181125.0\n",
      "RMSE: 148145.810353\n"
     ]
    }
   ],
   "source": [
    "get_metrics(ransac, df_train)"
   ]
  },
  {
   "cell_type": "code",
   "execution_count": 19,
   "metadata": {},
   "outputs": [
    {
     "name": "stdout",
     "output_type": "stream",
     "text": [
      "HuberRegressor(alpha=0.0001, epsilon=1.35, fit_intercept=True, max_iter=100,\n",
      "        tol=1e-05, warm_start=False)\n",
      "R2 Score: 0.855486599753\n",
      "MSE: 21490186280.9\n",
      "RMSE: 146595.314662\n"
     ]
    }
   ],
   "source": [
    "get_metrics(huber, df_train)"
   ]
  },
  {
   "cell_type": "code",
   "execution_count": 20,
   "metadata": {},
   "outputs": [
    {
     "data": {
      "image/png": "[encoded data removed]",
      "text/plain": [
       "<matplotlib.figure.Figure at 0x10faf9ac8>"
      ]
     },
     "metadata": {},
     "output_type": "display_data"
    }
   ],
   "source": [
    "rfr.fit(X_train, Y_train)\n",
    "\n",
    "feature_importance = rfr.feature_importances_\n",
    "feature_importance = 100.0 * (feature_importance / feature_importance.max())\n",
    "sorted_idx = np.argsort(feature_importance)[::-1]\n",
    "pos = np.arange(sorted_idx.shape[0]) + .5\n",
    "plt.subplot(1, 2, 2)\n",
    "plt.barh(pos[0:15], feature_importance[sorted_idx[0:15]], align='center')\n",
    "plt.yticks(pos[0:15], X_train.columns[sorted_idx[0:15]])\n",
    "plt.xlabel('Relative Importance')\n",
    "plt.title('Variable Importance Random Forest')\n",
    "plt.show()"
   ]
  },
  {
   "cell_type": "code",
   "execution_count": 21,
   "metadata": {},
   "outputs": [
    {
     "data": {
      "image/png": "[encoded data removed]",
      "text/plain": [
       "<matplotlib.figure.Figure at 0x1a15612a20>"
      ]
     },
     "metadata": {},
     "output_type": "display_data"
    }
   ],
   "source": [
    "gbr.fit(X_train,Y_train)\n",
    "\n",
    "feature_importance = gbr.feature_importances_\n",
    "feature_importance = 100.0 * (feature_importance / feature_importance.max())\n",
    "sorted_idx = np.argsort(feature_importance)[::-1]\n",
    "pos = np.arange(sorted_idx.shape[0]) + .5\n",
    "plt.subplot(1, 2, 2)\n",
    "plt.barh(pos[0:15], feature_importance[sorted_idx[0:15]], align='center')\n",
    "plt.yticks(pos[0:15], X_train.columns[sorted_idx[0:15]])\n",
    "plt.xlabel('Relative Importance')\n",
    "plt.title('Variable Importance')\n",
    "plt.show()"
   ]
  },
  {
   "cell_type": "code",
   "execution_count": 22,
   "metadata": {},
   "outputs": [
    {
     "name": "stdout",
     "output_type": "stream",
     "text": [
      "[  1.48642952e-02   8.65798517e-02   1.89980251e-02   6.72955680e-02\n",
      "   7.34352408e-02   6.45270739e+00   2.26423257e-02   7.90351463e-04\n",
      "   1.41540328e-01   5.50599920e-02   9.17908866e-03   1.16838049e+00\n",
      "   1.00710497e+00  -3.71260712e-05  -2.67796644e-06  -1.29526528e-04\n",
      "  -5.56318018e-05  -2.65578839e-04   1.68531926e-04   1.57748336e-04\n",
      "  -2.83158817e-04   4.32222885e-04  -7.70338652e-05  -6.36271296e-05\n",
      "   1.96692664e-05   1.79711368e-05  -1.94791297e-05  -1.32365444e-04\n",
      "   1.36604938e-04   9.27714106e-05   6.91622229e-05   1.39258438e-04\n",
      "   6.47088580e-05  -5.47380621e-05   3.39718317e-04  -1.97775172e-04\n",
      "   2.14822370e-04  -9.73794657e-06  -1.41442390e-04   1.91394242e-04\n",
      "  -1.97943959e-04  -7.92572150e-07   5.57098212e-05   0.00000000e+00\n",
      "   3.27258882e-04   1.38356412e-04   1.72907464e-05   5.11111250e-05\n",
      "   2.18859611e-05   1.61800315e-04  -1.85641641e-05   1.85726182e-05]\n"
     ]
    }
   ],
   "source": [
    "huber.fit(X_train,Y_train)\n",
    "print(huber.coef_)"
   ]
  },
  {
   "cell_type": "code",
   "execution_count": null,
   "metadata": {
    "collapsed": true
   },
   "outputs": [],
   "source": []
  }
 ],
 "metadata": {
  "kernelspec": {
   "display_name": "Python 3",
   "language": "python",
   "name": "python3"
  },
  "language_info": {
   "codemirror_mode": {
    "name": "ipython",
    "version": 3
   },
   "file_extension": ".py",
   "mimetype": "text/x-python",
   "name": "python",
   "nbconvert_exporter": "python",
   "pygments_lexer": "ipython3",
   "version": "3.6.3"
  }
 },
 "nbformat": 4,
 "nbformat_minor": 2
}
