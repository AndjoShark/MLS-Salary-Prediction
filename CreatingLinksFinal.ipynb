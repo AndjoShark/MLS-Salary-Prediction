{
 "cells": [
  {
   "cell_type": "code",
   "execution_count": 1,
   "metadata": {
    "collapsed": true
   },
   "outputs": [],
   "source": [
    "import pandas as pd\n",
    "import numpy as np\n",
    "import seaborn as sns\n",
    "import matplotlib as plt\n",
    "%matplotlib inline"
   ]
  },
  {
   "cell_type": "code",
   "execution_count": 2,
   "metadata": {
    "collapsed": true
   },
   "outputs": [],
   "source": [
    "df = pd.read_csv('/Users/joshuarkarnad/Desktop/Thinkful/Final Capstone/Data/mls_salaries.csv')"
   ]
  },
  {
   "cell_type": "code",
   "execution_count": 3,
   "metadata": {},
   "outputs": [
    {
     "data": {
      "text/html": [
       "<div>\n",
       "<style>\n",
       "    .dataframe thead tr:only-child th {\n",
       "        text-align: right;\n",
       "    }\n",
       "\n",
       "    .dataframe thead th {\n",
       "        text-align: left;\n",
       "    }\n",
       "\n",
       "    .dataframe tbody tr th {\n",
       "        vertical-align: top;\n",
       "    }\n",
       "</style>\n",
       "<table border=\"1\" class=\"dataframe\">\n",
       "  <thead>\n",
       "    <tr style=\"text-align: right;\">\n",
       "      <th></th>\n",
       "      <th>season</th>\n",
       "      <th>club_grouped</th>\n",
       "      <th>club</th>\n",
       "      <th>first_name</th>\n",
       "      <th>last_name</th>\n",
       "      <th>position</th>\n",
       "      <th>total_compensation</th>\n",
       "      <th>base_salary</th>\n",
       "    </tr>\n",
       "  </thead>\n",
       "  <tbody>\n",
       "    <tr>\n",
       "      <th>0</th>\n",
       "      <td>2018</td>\n",
       "      <td>TFC</td>\n",
       "      <td>TOR</td>\n",
       "      <td>Sebastian</td>\n",
       "      <td>Giovinco</td>\n",
       "      <td>F</td>\n",
       "      <td>$7,115,556</td>\n",
       "      <td>$5,600,000</td>\n",
       "    </tr>\n",
       "    <tr>\n",
       "      <th>1</th>\n",
       "      <td>2018</td>\n",
       "      <td>TFC</td>\n",
       "      <td>TOR</td>\n",
       "      <td>Michael</td>\n",
       "      <td>Bradley</td>\n",
       "      <td>M</td>\n",
       "      <td>$6,500,000</td>\n",
       "      <td>$6,000,000</td>\n",
       "    </tr>\n",
       "    <tr>\n",
       "      <th>2</th>\n",
       "      <td>2018</td>\n",
       "      <td>LAFC</td>\n",
       "      <td>LAFC</td>\n",
       "      <td>Carlos</td>\n",
       "      <td>Vela</td>\n",
       "      <td>F</td>\n",
       "      <td>$6,292,500</td>\n",
       "      <td>$4,500,000</td>\n",
       "    </tr>\n",
       "    <tr>\n",
       "      <th>3</th>\n",
       "      <td>2018</td>\n",
       "      <td>CHI</td>\n",
       "      <td>CHI</td>\n",
       "      <td>Bastian</td>\n",
       "      <td>Schweinsteiger</td>\n",
       "      <td>M</td>\n",
       "      <td>$6,100,000</td>\n",
       "      <td>$6,100,000</td>\n",
       "    </tr>\n",
       "    <tr>\n",
       "      <th>4</th>\n",
       "      <td>2018</td>\n",
       "      <td>LAG</td>\n",
       "      <td>LA</td>\n",
       "      <td>Giovani</td>\n",
       "      <td>dos Santos</td>\n",
       "      <td>F</td>\n",
       "      <td>$6,000,000</td>\n",
       "      <td>$4,250,000</td>\n",
       "    </tr>\n",
       "  </tbody>\n",
       "</table>\n",
       "</div>"
      ],
      "text/plain": [
       "   season club_grouped  club first_name       last_name position  \\\n",
       "0    2018          TFC   TOR  Sebastian        Giovinco        F   \n",
       "1    2018          TFC   TOR    Michael         Bradley        M   \n",
       "2    2018         LAFC  LAFC     Carlos            Vela        F   \n",
       "3    2018          CHI   CHI    Bastian  Schweinsteiger        M   \n",
       "4    2018          LAG    LA    Giovani      dos Santos        F   \n",
       "\n",
       "  total_compensation  base_salary  \n",
       "0        $7,115,556   $5,600,000   \n",
       "1        $6,500,000   $6,000,000   \n",
       "2        $6,292,500   $4,500,000   \n",
       "3        $6,100,000   $6,100,000   \n",
       "4        $6,000,000   $4,250,000   "
      ]
     },
     "execution_count": 3,
     "metadata": {},
     "output_type": "execute_result"
    }
   ],
   "source": [
    "df = df[df['position'] != 'GK']\n",
    "df.head()"
   ]
  },
  {
   "cell_type": "code",
   "execution_count": 4,
   "metadata": {
    "collapsed": true
   },
   "outputs": [],
   "source": [
    "import re\n",
    "def name_cleaner(name):\n",
    "    name = name.lower()\n",
    "    name = re.sub('\"[^\"]+\"', '', name)\n",
    "    name = re.sub(\"'[^']+'\", '', name)    \n",
    "    name = name.strip()\n",
    "    name = name.replace(' ','-')\n",
    "    return name"
   ]
  },
  {
   "cell_type": "code",
   "execution_count": 5,
   "metadata": {
    "collapsed": true
   },
   "outputs": [],
   "source": [
    "df = df.dropna()\n",
    "df[df['first_name'].str.contains(\" \")]\n",
    "df['first_name_cleaned'] = df['first_name'].map(name_cleaner)\n",
    "df['last_name_cleaned'] = df['last_name'].map(name_cleaner)"
   ]
  },
  {
   "cell_type": "code",
   "execution_count": 6,
   "metadata": {},
   "outputs": [
    {
     "data": {
      "text/html": [
       "<div>\n",
       "<style>\n",
       "    .dataframe thead tr:only-child th {\n",
       "        text-align: right;\n",
       "    }\n",
       "\n",
       "    .dataframe thead th {\n",
       "        text-align: left;\n",
       "    }\n",
       "\n",
       "    .dataframe tbody tr th {\n",
       "        vertical-align: top;\n",
       "    }\n",
       "</style>\n",
       "<table border=\"1\" class=\"dataframe\">\n",
       "  <thead>\n",
       "    <tr style=\"text-align: right;\">\n",
       "      <th></th>\n",
       "      <th>first_name_cleaned</th>\n",
       "      <th>last_name_cleaned</th>\n",
       "    </tr>\n",
       "  </thead>\n",
       "  <tbody>\n",
       "    <tr>\n",
       "      <th>0</th>\n",
       "      <td>sebastian</td>\n",
       "      <td>giovinco</td>\n",
       "    </tr>\n",
       "    <tr>\n",
       "      <th>1</th>\n",
       "      <td>michael</td>\n",
       "      <td>bradley</td>\n",
       "    </tr>\n",
       "    <tr>\n",
       "      <th>2</th>\n",
       "      <td>carlos</td>\n",
       "      <td>vela</td>\n",
       "    </tr>\n",
       "    <tr>\n",
       "      <th>3</th>\n",
       "      <td>bastian</td>\n",
       "      <td>schweinsteiger</td>\n",
       "    </tr>\n",
       "    <tr>\n",
       "      <th>4</th>\n",
       "      <td>giovani</td>\n",
       "      <td>dos-santos</td>\n",
       "    </tr>\n",
       "    <tr>\n",
       "      <th>5</th>\n",
       "      <td>david</td>\n",
       "      <td>villa</td>\n",
       "    </tr>\n",
       "    <tr>\n",
       "      <th>6</th>\n",
       "      <td>jozy</td>\n",
       "      <td>altidore</td>\n",
       "    </tr>\n",
       "    <tr>\n",
       "      <th>7</th>\n",
       "      <td>ignacio</td>\n",
       "      <td>piatti</td>\n",
       "    </tr>\n",
       "    <tr>\n",
       "      <th>9</th>\n",
       "      <td>diego</td>\n",
       "      <td>valeri</td>\n",
       "    </tr>\n",
       "    <tr>\n",
       "      <th>10</th>\n",
       "      <td>nicolas</td>\n",
       "      <td>lodeiro</td>\n",
       "    </tr>\n",
       "    <tr>\n",
       "      <th>11</th>\n",
       "      <td>miguel</td>\n",
       "      <td>almiron</td>\n",
       "    </tr>\n",
       "    <tr>\n",
       "      <th>12</th>\n",
       "      <td>yura</td>\n",
       "      <td>movsisyan</td>\n",
       "    </tr>\n",
       "    <tr>\n",
       "      <th>13</th>\n",
       "      <td>maxi</td>\n",
       "      <td>moralez</td>\n",
       "    </tr>\n",
       "    <tr>\n",
       "      <th>14</th>\n",
       "      <td>jonathan</td>\n",
       "      <td>dos-santos</td>\n",
       "    </tr>\n",
       "    <tr>\n",
       "      <th>15</th>\n",
       "      <td>fanendo</td>\n",
       "      <td>adi</td>\n",
       "    </tr>\n",
       "    <tr>\n",
       "      <th>16</th>\n",
       "      <td>nemanja</td>\n",
       "      <td>nikolic</td>\n",
       "    </tr>\n",
       "    <tr>\n",
       "      <th>17</th>\n",
       "      <td>romain</td>\n",
       "      <td>alessandrini</td>\n",
       "    </tr>\n",
       "    <tr>\n",
       "      <th>18</th>\n",
       "      <td>borek</td>\n",
       "      <td>dockal</td>\n",
       "    </tr>\n",
       "    <tr>\n",
       "      <th>19</th>\n",
       "      <td>shkelzen</td>\n",
       "      <td>gashi</td>\n",
       "    </tr>\n",
       "    <tr>\n",
       "      <th>20</th>\n",
       "      <td>darwin</td>\n",
       "      <td>quintero</td>\n",
       "    </tr>\n",
       "    <tr>\n",
       "      <th>21</th>\n",
       "      <td>felipe</td>\n",
       "      <td>gutierrez</td>\n",
       "    </tr>\n",
       "    <tr>\n",
       "      <th>22</th>\n",
       "      <td>clint</td>\n",
       "      <td>dempsey</td>\n",
       "    </tr>\n",
       "    <tr>\n",
       "      <th>23</th>\n",
       "      <td>bradley</td>\n",
       "      <td>wright-phillips</td>\n",
       "    </tr>\n",
       "    <tr>\n",
       "      <th>24</th>\n",
       "      <td>victor</td>\n",
       "      <td>vazquez</td>\n",
       "    </tr>\n",
       "    <tr>\n",
       "      <th>25</th>\n",
       "      <td>zlatan</td>\n",
       "      <td>ibrahimovic</td>\n",
       "    </tr>\n",
       "  </tbody>\n",
       "</table>\n",
       "</div>"
      ],
      "text/plain": [
       "   first_name_cleaned last_name_cleaned\n",
       "0           sebastian          giovinco\n",
       "1             michael           bradley\n",
       "2              carlos              vela\n",
       "3             bastian    schweinsteiger\n",
       "4             giovani        dos-santos\n",
       "5               david             villa\n",
       "6                jozy          altidore\n",
       "7             ignacio            piatti\n",
       "9               diego            valeri\n",
       "10            nicolas           lodeiro\n",
       "11             miguel           almiron\n",
       "12               yura         movsisyan\n",
       "13               maxi           moralez\n",
       "14           jonathan        dos-santos\n",
       "15            fanendo               adi\n",
       "16            nemanja           nikolic\n",
       "17             romain      alessandrini\n",
       "18              borek            dockal\n",
       "19           shkelzen             gashi\n",
       "20             darwin          quintero\n",
       "21             felipe         gutierrez\n",
       "22              clint           dempsey\n",
       "23            bradley   wright-phillips\n",
       "24             victor           vazquez\n",
       "25             zlatan       ibrahimovic"
      ]
     },
     "execution_count": 6,
     "metadata": {},
     "output_type": "execute_result"
    }
   ],
   "source": [
    "df[['first_name_cleaned', 'last_name_cleaned']].head(25)"
   ]
  },
  {
   "cell_type": "code",
   "execution_count": 7,
   "metadata": {
    "collapsed": true
   },
   "outputs": [],
   "source": [
    "df['urls'] = 'https://www.mlssoccer.com/players/' + df['first_name_cleaned']+'-'+df['last_name_cleaned']"
   ]
  },
  {
   "cell_type": "code",
   "execution_count": 8,
   "metadata": {
    "collapsed": true
   },
   "outputs": [],
   "source": [
    "urls = df[['urls', 'first_name', 'last_name']].drop_duplicates()"
   ]
  },
  {
   "cell_type": "code",
   "execution_count": 9,
   "metadata": {},
   "outputs": [
    {
     "data": {
      "text/plain": [
       "5524"
      ]
     },
     "execution_count": 9,
     "metadata": {},
     "output_type": "execute_result"
    }
   ],
   "source": [
    "len(df['urls'])"
   ]
  },
  {
   "cell_type": "code",
   "execution_count": 10,
   "metadata": {},
   "outputs": [
    {
     "data": {
      "text/plain": [
       "2044"
      ]
     },
     "execution_count": 10,
     "metadata": {},
     "output_type": "execute_result"
    }
   ],
   "source": [
    "len(urls)"
   ]
  },
  {
   "cell_type": "code",
   "execution_count": 11,
   "metadata": {},
   "outputs": [
    {
     "data": {
      "text/html": [
       "<div>\n",
       "<style>\n",
       "    .dataframe thead tr:only-child th {\n",
       "        text-align: right;\n",
       "    }\n",
       "\n",
       "    .dataframe thead th {\n",
       "        text-align: left;\n",
       "    }\n",
       "\n",
       "    .dataframe tbody tr th {\n",
       "        vertical-align: top;\n",
       "    }\n",
       "</style>\n",
       "<table border=\"1\" class=\"dataframe\">\n",
       "  <thead>\n",
       "    <tr style=\"text-align: right;\">\n",
       "      <th></th>\n",
       "      <th>urls</th>\n",
       "      <th>first_name</th>\n",
       "      <th>last_name</th>\n",
       "    </tr>\n",
       "  </thead>\n",
       "  <tbody>\n",
       "    <tr>\n",
       "      <th>0</th>\n",
       "      <td>https://www.mlssoccer.com/players/sebastian-gi...</td>\n",
       "      <td>Sebastian</td>\n",
       "      <td>Giovinco</td>\n",
       "    </tr>\n",
       "    <tr>\n",
       "      <th>1</th>\n",
       "      <td>https://www.mlssoccer.com/players/michael-bradley</td>\n",
       "      <td>Michael</td>\n",
       "      <td>Bradley</td>\n",
       "    </tr>\n",
       "    <tr>\n",
       "      <th>2</th>\n",
       "      <td>https://www.mlssoccer.com/players/carlos-vela</td>\n",
       "      <td>Carlos</td>\n",
       "      <td>Vela</td>\n",
       "    </tr>\n",
       "    <tr>\n",
       "      <th>3</th>\n",
       "      <td>https://www.mlssoccer.com/players/bastian-schw...</td>\n",
       "      <td>Bastian</td>\n",
       "      <td>Schweinsteiger</td>\n",
       "    </tr>\n",
       "    <tr>\n",
       "      <th>4</th>\n",
       "      <td>https://www.mlssoccer.com/players/giovani-dos-...</td>\n",
       "      <td>Giovani</td>\n",
       "      <td>dos Santos</td>\n",
       "    </tr>\n",
       "  </tbody>\n",
       "</table>\n",
       "</div>"
      ],
      "text/plain": [
       "                                                urls first_name  \\\n",
       "0  https://www.mlssoccer.com/players/sebastian-gi...  Sebastian   \n",
       "1  https://www.mlssoccer.com/players/michael-bradley    Michael   \n",
       "2      https://www.mlssoccer.com/players/carlos-vela     Carlos   \n",
       "3  https://www.mlssoccer.com/players/bastian-schw...    Bastian   \n",
       "4  https://www.mlssoccer.com/players/giovani-dos-...    Giovani   \n",
       "\n",
       "        last_name  \n",
       "0        Giovinco  \n",
       "1         Bradley  \n",
       "2            Vela  \n",
       "3  Schweinsteiger  \n",
       "4      dos Santos  "
      ]
     },
     "execution_count": 11,
     "metadata": {},
     "output_type": "execute_result"
    }
   ],
   "source": [
    "urls.head()"
   ]
  },
  {
   "cell_type": "code",
   "execution_count": 12,
   "metadata": {
    "collapsed": true
   },
   "outputs": [],
   "source": [
    "urls.to_csv('/Users/joshuarkarnad/Desktop/Thinkful/Final Capstone/Data/urls.csv')"
   ]
  },
  {
   "cell_type": "code",
   "execution_count": 16,
   "metadata": {
    "collapsed": true
   },
   "outputs": [],
   "source": [
    "df.to_csv('salaries.csv', index = False)"
   ]
  }
 ],
 "metadata": {
  "kernelspec": {
   "display_name": "Python 3",
   "language": "python",
   "name": "python3"
  },
  "language_info": {
   "codemirror_mode": {
    "name": "ipython",
    "version": 3
   },
   "file_extension": ".py",
   "mimetype": "text/x-python",
   "name": "python",
   "nbconvert_exporter": "python",
   "pygments_lexer": "ipython3",
   "version": "3.6.3"
  }
 },
 "nbformat": 4,
 "nbformat_minor": 2
}
